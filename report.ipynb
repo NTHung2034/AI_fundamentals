{
 "cells": [
  {
   "cell_type": "markdown",
   "metadata": {},
   "source": [
    "## 1. Giải thích Chi tiết về Thuật toán\n",
    "### 1.1 Thuật toán Uniform Cost Search (UCS)\n",
    "- **Mục tiêu**: UCS tìm con đường ít tốn kém nhất trong mê cung, trong đó mỗi bước di chuyển của Ares hoặc đẩy đá đều có chi phí khác nhau.\n",
    "- **Nguyên lý hoạt động**:\n",
    "  - Chương trình khởi tạo hàng đợi ưu tiên (min-heap) với trạng thái bắt đầu, bao gồm vị trí ban đầu của Ares, vị trí của các viên đá và tổng chi phí khởi điểm là 0.\n",
    "  - Hàng đợi ưu tiên đảm bảo rằng thuật toán sẽ khám phá các con đường có chi phí thấp nhất trước, giúp UCS đạt được tính tối ưu khi tìm được trạng thái đích với nỗ lực thấp nhất.\n",
    "  - **Điều kiện dừng**: UCS sẽ dừng lại khi đạt được trạng thái mà tất cả các viên đá đều nằm trên các công tắc.\n",
    "- **Tính toán Chi phí**:\n",
    "  - Di chuyển Ares từ ô này sang ô khác có chi phí cơ bản là 1.\n",
    "  - Khi đẩy viên đá sang một ô liền kề, chi phí sẽ được cộng thêm bằng trọng lượng của viên đá. Chi phí đẩy này là tổng cộng và giúp UCS ưu tiên các con đường ít phải đẩy đá.\n",
    "\n",
    "### 2.2 Cấu trúc Dữ liệu và Các Hàm\n",
    "- **Hàng đợi ưu tiên**: Lưu trữ các trạng thái theo thứ tự chi phí tăng dần, giúp UCS mở rộng con đường có chi phí thấp nhất trước.\n",
    "- **Tập trạng thái đã được duyệt**: Lưu trữ các trạng thái đã được duyệt, bao gồm vị trí của Ares và các vị trí của tất cả viên đá. Điều này giúp UCS tránh duyệt lại các trạng thái, tối ưu hóa bộ nhớ và giảm các tính toán dư thừa.\n",
    "\n",
    "### 2.3 Lưu đồ Hoạt động\n",
    "1. **Khởi tạo Trạng thái**: Chương trình đọc cấu trúc mê cung, xác định vị trí của Ares, các viên đá và công tắc, đồng thời khởi tạo trọng lượng của các viên đá.\n",
    "2. **Thực thi UCS**:\n",
    "   - Lấy trạng thái có chi phí thấp nhất khỏi hàng đợi ưu tiên.\n",
    "   - Với mỗi hành động di chuyển hoặc đẩy đá khả thi, tính toán trạng thái và chi phí mới.\n",
    "   - Thêm các trạng thái hợp lệ vào hàng đợi ưu tiên nếu chưa được duyệt, ưu tiên các con đường rẻ nhất.\n",
    "   - Lặp lại cho đến khi đạt được trạng thái đích, trả về con đường và các số liệu thống kê.\n",
    "\n",
    "## 3. Minh họa\n",
    "Xem xét cấu trúc mê cung đơn giản sau:\n"
   ]
  },
  {
   "cell_type": "markdown",
   "metadata": {},
   "source": [
    "Sơ đồ này minh họa cách UCS quyết định ưu tiên các di chuyển dựa trên chi phí tối thiểu.\n",
    "\n",
    "## 4. Các Bộ Dữ liệu Thử nghiệm và Kết quả\n",
    "\n",
    "Các bộ dữ liệu thử nghiệm dưới đây đánh giá hiệu suất của UCS qua các cấu trúc mê cung khác nhau, cho thấy mức sử dụng bộ nhớ, độ phức tạp thời gian và các chỉ số khác.\n",
    "\n",
    "| **Mê Cung**               | **Bước** | **Tổng Trọng lượng** | **Nút Đã Tạo** | **Thời gian (ms)** | **Bộ nhớ (MB)** | **Lộ trình Giải pháp** |\n",
    "|---------------------------|----------|----------------------|----------------|---------------------|-----------------|-------------------------|\n",
    "| Đơn giản, 2 Viên Đá       | 24       | 405                  | 60,071         | 511.51             | 11.24           | `lluRurrDrdLL...`       |\n",
    "| Trung bình, 1 Viên Đá     | 24       | 400                  | 915            | 6.21               | 0.06            | `lllulldlldd...`        |\n",
    "| Phức tạp, 2 Viên Đá       | 13       | 146                  | 5,229          | 40.30              | 0.05            | `luurDrDLrr...`         |\n",
    "| Mê Cung Dày, 3 Viên Đá    | 105      | 402                  | 87,467         | 922.63             | 8.61            | `rddLruulDlD...`        |\n",
    "| Độ Phức tạp Cao, 5 Viên Đá | 52       | 449                  | 1,208,798      | 18776.45           | 248.72          | `LullDLulldD...`        |\n",
    "\n",
    "## 5. Thách Thức và Quan sát\n",
    "- **Tiêu thụ bộ nhớ**: UCS có thể tiêu tốn nhiều bộ nhớ trong các mê cung lớn vì phải theo dõi nhiều lộ trình và giữ chúng trong bộ nhớ cho đến khi đạt được trạng thái đích. Trường hợp thử nghiệm lớn nhất cho thấy mức tiêu thụ bộ nhớ cao (248.72 MB).\n",
    "- **Mở rộng nút**: Vì UCS mở rộng tất cả các con đường khả thi để duy trì tính tối ưu, số lượng nút được tạo có thể lớn, đặc biệt trong các mê cung có nhiều viên đá và bố trí phức tạp.\n",
    "- **Thời gian thực thi**: Số lượng nút tăng trực tiếp ảnh hưởng đến thời gian thực thi. Trong các mê cung lớn hoặc khi viên đá ở xa công tắc, UCS có thể mất nhiều thời gian để đánh giá tất cả các con đường, như thấy trong trường hợp thử nghiệm thứ năm.\n",
    "\n",
    "## 6. Hiệu suất So sánh và Hành vi Thuật toán\n",
    "- **Tính tối ưu**: UCS đảm bảo tìm ra con đường tối ưu nhất về chi phí do mở rộng các con đường theo thứ tự chi phí tăng dần. Điều này rất có lợi cho các bài toán như đẩy đá vào công tắc trong mê cung, nơi mỗi động tác và đẩy đá đều ảnh hưởng đến tổng chi phí.\n",
    "- **Thách thức của UCS trong các mê cung lớn**: Khi độ phức tạp của mê cung tăng lên, việc khám phá toàn diện của UCS trở nên tốn kém hơn về bộ nhớ và thời gian. Đối với các mê cung cực kỳ phức tạp, các thuật toán sử dụng heuristic như A* (với ước lượng chi phí để hoàn thành) có thể mang lại hiệu suất tốt hơn với một chút đánh đổi trong tính tối ưu.\n",
    "\n",
    "## 7. Kết luận\n",
    "Chương trình đã giải hiệu quả bài toán mê cung bằng cách sử dụng UCS, đảm bảo con đường tối thiểu chi phí để di chuyển các viên đá vào công tắc. Mặc dù tính toàn diện của UCS cung cấp giải pháp tốt nhất, các mê cung lớn tạo ra thách thức về bộ nhớ và thời gian, đặc biệt khi các viên đá có trọng lượng khác nhau và nhiều công tắc. Chương trình này cung cấp một giải pháp mạnh mẽ nhưng có thể được cải tiến thêm bằng cách bổ sung heuristic cho các phiên bản tương lai, đặc biệt để xử lý các mê cung phức tạp hơn một cách hiệu quả.\n",
    "\n",
    "---"
   ]
  }
 ],
 "metadata": {
  "kernelspec": {
   "display_name": "search_project",
   "language": "python",
   "name": "python3"
  },
  "language_info": {
   "name": "python",
   "version": "3.12.7"
  }
 },
 "nbformat": 4,
 "nbformat_minor": 2
}
